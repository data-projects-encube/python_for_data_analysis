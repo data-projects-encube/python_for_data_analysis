{
 "cells": [
  {
   "cell_type": "code",
   "execution_count": 13,
   "id": "d7dfa248-966a-4f52-ac67-a4e93724f8d9",
   "metadata": {},
   "outputs": [
    {
     "name": "stdout",
     "output_type": "stream",
     "text": [
      "Original LIst [5, 10, 15, 25, 30, 60, 100]\n",
      "List after adding 5 to it [10, 15, 20, 30, 35, 65, 105]\n",
      "Squared List [25, 100, 225, 625, 900, 3600, 10000]\n",
      "Filtered even numbers list [10, 30, 60, 100]\n",
      "Total sum of number list is  245\n"
     ]
    }
   ],
   "source": [
    "number_list=[5,10,15,25,30,60,100]\n",
    "print(\"Original LIst\",number_list)\n",
    "#lambda functions and map\n",
    "add_numbers=list(map(lambda a:a+5,number_list))\n",
    "print(\"List after adding 5 to it\",add_numbers)\n",
    "\n",
    "sqaure_list=list(map(lambda num:num**2,number_list))\n",
    "\n",
    "print(\"Squared List\",sqaure_list)\n",
    "#filter\n",
    "filtered_list=list(filter(lambda num:num%2==0,number_list))\n",
    "\n",
    "print(\"Filtered even numbers list\",filtered_list)\n",
    "#reduce\n",
    "import functools\n",
    "sum_of_list=functools.reduce(lambda num1,num2:num1+num2,number_list)\n",
    "print(\"Total sum of number list is \",sum_of_list)"
   ]
  },
  {
   "cell_type": "code",
   "execution_count": null,
   "id": "78895b1b-0281-463d-9606-be7d033b5cfe",
   "metadata": {},
   "outputs": [],
   "source": []
  }
 ],
 "metadata": {
  "kernelspec": {
   "display_name": "Python 3 (ipykernel)",
   "language": "python",
   "name": "python3"
  },
  "language_info": {
   "codemirror_mode": {
    "name": "ipython",
    "version": 3
   },
   "file_extension": ".py",
   "mimetype": "text/x-python",
   "name": "python",
   "nbconvert_exporter": "python",
   "pygments_lexer": "ipython3",
   "version": "3.13.0"
  }
 },
 "nbformat": 4,
 "nbformat_minor": 5
}
