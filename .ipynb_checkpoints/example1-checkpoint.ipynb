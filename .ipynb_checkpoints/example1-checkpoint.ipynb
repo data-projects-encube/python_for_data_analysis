{
 "cells": [
  {
   "cell_type": "code",
   "execution_count": 1,
   "id": "526a0f08-36dc-4781-a2b2-9d1b2c983a6e",
   "metadata": {},
   "outputs": [],
   "source": [
    "a=10\n",
    "b=20"
   ]
  },
  {
   "cell_type": "code",
   "execution_count": 2,
   "id": "124d7540-0f56-48d1-be7f-440e86eb2d38",
   "metadata": {},
   "outputs": [
    {
     "name": "stdout",
     "output_type": "stream",
     "text": [
      "0.5\n"
     ]
    }
   ],
   "source": [
    "print(a/b)"
   ]
  },
  {
   "cell_type": "code",
   "execution_count": 3,
   "id": "fe752a30-234e-4696-ae76-bc619c8eb564",
   "metadata": {},
   "outputs": [
    {
     "name": "stdout",
     "output_type": "stream",
     "text": [
      "0\n"
     ]
    }
   ],
   "source": [
    "print(a//b)"
   ]
  },
  {
   "cell_type": "code",
   "execution_count": 9,
   "id": "e24ec7fe-b148-46a1-84df-790197760df4",
   "metadata": {},
   "outputs": [
    {
     "name": "stdout",
     "output_type": "stream",
     "text": [
      "2\n"
     ]
    }
   ],
   "source": [
    "print(500//214)"
   ]
  },
  {
   "cell_type": "code",
   "execution_count": 14,
   "id": "4eb0bc43-1e76-42ac-a935-db1f21117b11",
   "metadata": {},
   "outputs": [
    {
     "name": "stdin",
     "output_type": "stream",
     "text": [
      "enter your favorite fruit : orange\n"
     ]
    },
    {
     "name": "stdout",
     "output_type": "stream",
     "text": [
      "orange is present in the fruit basket, Awesome !!\n"
     ]
    }
   ],
   "source": [
    "fruits_basket=['orange','apple','banana']\n",
    "my_fruit=input(\"enter your favorite fruit :\")\n",
    "\n",
    "if my_fruit in fruits_basket:\n",
    "    print(f\"{my_fruit} is present in the fruit basket, Awesome !!\")\n",
    "else:\n",
    "    print(f\"{my_fruit} is not in the fruit basket,sorry !\")"
   ]
  },
  {
   "cell_type": "code",
   "execution_count": 18,
   "id": "1fb45574-f2d7-43dd-bf6e-b071d9146a1d",
   "metadata": {},
   "outputs": [
    {
     "name": "stdout",
     "output_type": "stream",
     "text": [
      "my first name is neeraj and full name is neeraj\n",
      "nayan\n",
      "navaratna\n"
     ]
    }
   ],
   "source": [
    "a='neeraj'\n",
    "\n",
    "b='''neeraj\n",
    "nayan\n",
    "navaratna'''\n",
    "\n",
    "print(f'my first name is {a} and full name is {b}')"
   ]
  },
  {
   "cell_type": "code",
   "execution_count": 23,
   "id": "df8f7bfc-bb1b-4d37-bf07-7371b88f60d5",
   "metadata": {},
   "outputs": [
    {
     "name": "stdout",
     "output_type": "stream",
     "text": [
      "o\n"
     ]
    }
   ],
   "source": [
    "language=\"python\"\n",
    "print (language[4])"
   ]
  },
  {
   "cell_type": "code",
   "execution_count": null,
   "id": "db172695-40f4-4baf-a199-fc6b805e5420",
   "metadata": {},
   "outputs": [],
   "source": []
  }
 ],
 "metadata": {
  "kernelspec": {
   "display_name": "Python 3 (ipykernel)",
   "language": "python",
   "name": "python3"
  },
  "language_info": {
   "codemirror_mode": {
    "name": "ipython",
    "version": 3
   },
   "file_extension": ".py",
   "mimetype": "text/x-python",
   "name": "python",
   "nbconvert_exporter": "python",
   "pygments_lexer": "ipython3",
   "version": "3.13.0"
  }
 },
 "nbformat": 4,
 "nbformat_minor": 5
}
