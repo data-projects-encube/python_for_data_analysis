{
 "cells": [
  {
   "cell_type": "code",
   "execution_count": 9,
   "id": "d7dfa248-966a-4f52-ac67-a4e93724f8d9",
   "metadata": {},
   "outputs": [
    {
     "ename": "SyntaxError",
     "evalue": "invalid syntax (3765885569.py, line 15)",
     "output_type": "error",
     "traceback": [
      "\u001b[1;36m  Cell \u001b[1;32mIn[9], line 15\u001b[1;36m\u001b[0m\n\u001b[1;33m    sum_of_list=functools.reduce(lambda num1,num2:num1:num2,number_list)\u001b[0m\n\u001b[1;37m                                                      ^\u001b[0m\n\u001b[1;31mSyntaxError\u001b[0m\u001b[1;31m:\u001b[0m invalid syntax\n"
     ]
    }
   ],
   "source": [
    "import functools\n",
    "number_list=[5,10,15,25,30,60,100]\n",
    "print(\"Original LIst\",number_list)\n",
    "add_numbers=list(map(lambda a:a+5,number_list))\n",
    "print(\"List after adding 5 to it\",add_numbers)\n",
    "\n",
    "sqaure_list=list(map(lambda num:num**2,number_list))\n",
    "\n",
    "print(\"Squared List\",sqaure_list)\n",
    "\n",
    "filtered_list=list(filter(lambda num:num%2==0,number_list))\n",
    "\n",
    "print(\"Filtered even numbers list\",filtered_list)\n",
    "\n",
    "sum_of_list=functools.reduce(lambda num1,num2:num1:num2,number_list)\n",
    "print(\"Total sum of number list is \",sum_of_list)"
   ]
  },
  {
   "cell_type": "code",
   "execution_count": null,
   "id": "78895b1b-0281-463d-9606-be7d033b5cfe",
   "metadata": {},
   "outputs": [],
   "source": []
  }
 ],
 "metadata": {
  "kernelspec": {
   "display_name": "Python 3 (ipykernel)",
   "language": "python",
   "name": "python3"
  },
  "language_info": {
   "codemirror_mode": {
    "name": "ipython",
    "version": 3
   },
   "file_extension": ".py",
   "mimetype": "text/x-python",
   "name": "python",
   "nbconvert_exporter": "python",
   "pygments_lexer": "ipython3",
   "version": "3.13.0"
  }
 },
 "nbformat": 4,
 "nbformat_minor": 5
}
