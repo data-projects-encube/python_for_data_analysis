{
 "cells": [
  {
   "cell_type": "code",
   "execution_count": 1,
   "id": "e550ac44-0f27-4733-82ba-afaabbc4141b",
   "metadata": {},
   "outputs": [
    {
     "ename": "NameError",
     "evalue": "name 'pc' is not defined",
     "output_type": "error",
     "traceback": [
      "\u001b[1;31m---------------------------------------------------------------------------\u001b[0m",
      "\u001b[1;31mNameError\u001b[0m                                 Traceback (most recent call last)",
      "Cell \u001b[1;32mIn[1], line 6\u001b[0m\n\u001b[0;32m      3\u001b[0m phone_numbers_list\u001b[38;5;241m=\u001b[39m[\u001b[38;5;124m'\u001b[39m\u001b[38;5;124m9741258248\u001b[39m\u001b[38;5;124m'\u001b[39m,\u001b[38;5;124m'\u001b[39m\u001b[38;5;124m9980700663\u001b[39m\u001b[38;5;124m'\u001b[39m,\u001b[38;5;124m'\u001b[39m\u001b[38;5;124m9164878037\u001b[39m\u001b[38;5;124m'\u001b[39m,\u001b[38;5;124m'\u001b[39m\u001b[38;5;124m78899\u001b[39m\u001b[38;5;124m'\u001b[39m,\u001b[38;5;124m'\u001b[39m\u001b[38;5;124m97655333\u001b[39m\u001b[38;5;124m'\u001b[39m]\n\u001b[0;32m      5\u001b[0m \u001b[38;5;28;01mfor\u001b[39;00m phno \u001b[38;5;129;01min\u001b[39;00m phone_numbers_list:\n\u001b[1;32m----> 6\u001b[0m     \u001b[43mpc\u001b[49m\u001b[38;5;241m.\u001b[39mis_valid_phone_num(phno)\n",
      "\u001b[1;31mNameError\u001b[0m: name 'pc' is not defined"
     ]
    }
   ],
   "source": [
    "from piicheckmodule import *\n",
    "\n",
    "phone_numbers_list=['9741258248','9980700663','9164878037','78899','97655333']\n",
    "\n",
    "for phno in phone_numbers_list:\n",
    "    is_valid_phone_num(phno)"
   ]
  },
  {
   "cell_type": "code",
   "execution_count": null,
   "id": "6d47a3c0-a94b-4112-a025-82eef811f9eb",
   "metadata": {},
   "outputs": [],
   "source": [
    "emails = [\n",
    "    \"test@example.com\",      # Valid\n",
    "    \"user.name@domain.co\",   # Valid\n",
    "    \"user@sub.domain.com\",   # Valid\n",
    "    \"user@domain\",           # Invalid (no TLD)\n",
    "    \"user@.com\",             # Invalid (dot before domain)\n",
    "    \"@domain.com\",           # Invalid (missing local part)\n",
    "    \"user@domain..com\",      # Invalid (consecutive dots)\n",
    "]\n",
    "\n",
    "for email in emails:\n",
    "    print(f\"{email}: {is_valid_email(email)}\")"
   ]
  },
  {
   "cell_type": "code",
   "execution_count": null,
   "id": "160cc3d6-13b4-40af-98a7-1ec77a611e6b",
   "metadata": {},
   "outputs": [],
   "source": []
  },
  {
   "cell_type": "code",
   "execution_count": null,
   "id": "5135bafd-197a-43ae-9f54-7c6f98904f92",
   "metadata": {},
   "outputs": [],
   "source": []
  }
 ],
 "metadata": {
  "kernelspec": {
   "display_name": "Python 3 (ipykernel)",
   "language": "python",
   "name": "python3"
  },
  "language_info": {
   "codemirror_mode": {
    "name": "ipython",
    "version": 3
   },
   "file_extension": ".py",
   "mimetype": "text/x-python",
   "name": "python",
   "nbconvert_exporter": "python",
   "pygments_lexer": "ipython3",
   "version": "3.13.0"
  }
 },
 "nbformat": 4,
 "nbformat_minor": 5
}
