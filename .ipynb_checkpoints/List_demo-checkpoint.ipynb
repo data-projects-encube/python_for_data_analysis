{
 "cells": [
  {
   "cell_type": "code",
   "execution_count": 25,
   "id": "87b9c356-3cb0-4e02-ab46-b152a72cd290",
   "metadata": {},
   "outputs": [
    {
     "name": "stdout",
     "output_type": "stream",
     "text": [
      "Initial List : [1, 2, 3, 4, 'Five', 6]\n",
      "List after append: [1, 2, 3, 4, 'Five', 6, 'New element']\n",
      "List after insert: [1, 2, 3, 4, 'Five', 6, 7, 'New element']\n",
      "List after second insert: [1, 2, 3, 4, 'Five', 6, 7, 'New element', 9]\n",
      "List after third insert: [1, 2, 3, 4, 'Five', 6, 7, 'New element', 9, 100]\n",
      "List after latest append: [1, 2, 3, 4, 'Five', 6, 7, 'New element', 9, 100, 'Drama']\n",
      "List after latest removal: [1, 2, 3, 4, 'Five', 6, 7, 9, 100]\n",
      "List after latest removal: [1, 2, 3, 'Five', 6, 7, 9, 100]\n",
      "Removed index position = 4\n"
     ]
    }
   ],
   "source": [
    "list_demo=[1,2,3,4,'Five',6]\n",
    "print(\"Initial List :\",list_demo)\n",
    "list_demo.append('New element')\n",
    "print(\"List after append:\",list_demo)\n",
    "list_demo.insert(6,7)\n",
    "print(\"List after insert:\",list_demo)\n",
    "list_demo.insert(8,9)\n",
    "print(\"List after second insert:\",list_demo)\n",
    "list_demo.insert(10,100)\n",
    "print(\"List after third insert:\",list_demo)\n",
    "list_demo.append(\"Drama\")\n",
    "print(\"List after latest append:\",list_demo)\n",
    "list_demo.remove('New element') # remove uses actual value\n",
    "list_demo.remove('Drama') # remove uses actual value\n",
    "print(\"List after latest removal:\",list_demo)\n",
    "removed_value=list_demo.pop(3) # pop uses index value\n",
    "print(\"List after latest removal:\",list_demo)\n",
    "print(\"Removed index position =\",removed_value)"
   ]
  },
  {
   "cell_type": "code",
   "execution_count": null,
   "id": "3b085f7d-4262-4dbe-8b13-f64b16803ee3",
   "metadata": {},
   "outputs": [],
   "source": []
  }
 ],
 "metadata": {
  "kernelspec": {
   "display_name": "Python 3 (ipykernel)",
   "language": "python",
   "name": "python3"
  },
  "language_info": {
   "codemirror_mode": {
    "name": "ipython",
    "version": 3
   },
   "file_extension": ".py",
   "mimetype": "text/x-python",
   "name": "python",
   "nbconvert_exporter": "python",
   "pygments_lexer": "ipython3",
   "version": "3.13.0"
  }
 },
 "nbformat": 4,
 "nbformat_minor": 5
}
