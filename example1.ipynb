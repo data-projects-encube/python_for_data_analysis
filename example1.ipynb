{
 "cells": [
  {
   "cell_type": "code",
   "execution_count": 1,
   "id": "526a0f08-36dc-4781-a2b2-9d1b2c983a6e",
   "metadata": {},
   "outputs": [],
   "source": [
    "a=10\n",
    "b=20"
   ]
  },
  {
   "cell_type": "code",
   "execution_count": 2,
   "id": "124d7540-0f56-48d1-be7f-440e86eb2d38",
   "metadata": {},
   "outputs": [
    {
     "name": "stdout",
     "output_type": "stream",
     "text": [
      "0.5\n"
     ]
    }
   ],
   "source": [
    "print(a/b)"
   ]
  },
  {
   "cell_type": "code",
   "execution_count": 3,
   "id": "fe752a30-234e-4696-ae76-bc619c8eb564",
   "metadata": {},
   "outputs": [
    {
     "name": "stdout",
     "output_type": "stream",
     "text": [
      "0\n"
     ]
    }
   ],
   "source": [
    "print(a//b)"
   ]
  },
  {
   "cell_type": "code",
   "execution_count": 9,
   "id": "e24ec7fe-b148-46a1-84df-790197760df4",
   "metadata": {},
   "outputs": [
    {
     "name": "stdout",
     "output_type": "stream",
     "text": [
      "2\n"
     ]
    }
   ],
   "source": [
    "print(500//214)"
   ]
  },
  {
   "cell_type": "code",
   "execution_count": 14,
   "id": "4eb0bc43-1e76-42ac-a935-db1f21117b11",
   "metadata": {},
   "outputs": [
    {
     "name": "stdin",
     "output_type": "stream",
     "text": [
      "enter your favorite fruit : orange\n"
     ]
    },
    {
     "name": "stdout",
     "output_type": "stream",
     "text": [
      "orange is present in the fruit basket, Awesome !!\n"
     ]
    }
   ],
   "source": [
    "fruits_basket=['orange','apple','banana']\n",
    "my_fruit=input(\"enter your favorite fruit :\")\n",
    "\n",
    "if my_fruit in fruits_basket:\n",
    "    print(f\"{my_fruit} is present in the fruit basket, Awesome !!\")\n",
    "else:\n",
    "    print(f\"{my_fruit} is not in the fruit basket,sorry !\")"
   ]
  },
  {
   "cell_type": "code",
   "execution_count": 18,
   "id": "1fb45574-f2d7-43dd-bf6e-b071d9146a1d",
   "metadata": {},
   "outputs": [
    {
     "name": "stdout",
     "output_type": "stream",
     "text": [
      "my first name is neeraj and full name is neeraj\n",
      "nayan\n",
      "navaratna\n"
     ]
    }
   ],
   "source": [
    "a='neeraj'\n",
    "\n",
    "b='''neeraj\n",
    "nayan\n",
    "navaratna'''\n",
    "\n",
    "print(f'my first name is {a} and full name is {b}')"
   ]
  },
  {
   "cell_type": "code",
   "execution_count": 23,
   "id": "df8f7bfc-bb1b-4d37-bf07-7371b88f60d5",
   "metadata": {},
   "outputs": [
    {
     "name": "stdout",
     "output_type": "stream",
     "text": [
      "o\n"
     ]
    }
   ],
   "source": [
    "language=\"python\"\n",
    "print (language[4])"
   ]
  },
  {
   "cell_type": "code",
   "execution_count": 30,
   "id": "db172695-40f4-4baf-a199-fc6b805e5420",
   "metadata": {},
   "outputs": [
    {
     "name": "stdout",
     "output_type": "stream",
     "text": [
      "DATA ANALSYSIS WITH PYTHON\n",
      "data analsysis with python\n",
      "Data analsysis with python\n",
      "['Data', 'Analsysis', 'with', 'Python']\n"
     ]
    }
   ],
   "source": [
    "#string operations\n",
    "\n",
    "book_title=\"Data Analsysis with Python\"\n",
    "print(book_title.upper())\n",
    "print(book_title.lower())\n",
    "print(book_title.capitalize())\n",
    "mybook_list=book_title.split(\" \")\n",
    "print(mybook_list)"
   ]
  },
  {
   "cell_type": "code",
   "execution_count": 32,
   "id": "d628527c-d0cc-4a92-9e17-efa1bd238121",
   "metadata": {},
   "outputs": [],
   "source": [
    "def is_valid_phone_num(phone_number):\n",
    "    if phone_number.isdigit() and len(phone_number)==10:\n",
    "        print(f\"{phone_number} is valid\")\n",
    "        return phone_number\n",
    "    else:\n",
    "        print(f\"{phone_number} is not valid\")"
   ]
  },
  {
   "cell_type": "code",
   "execution_count": 34,
   "id": "d68e050d-d21d-4dbf-b30c-e6e12d9f99a3",
   "metadata": {},
   "outputs": [
    {
     "name": "stdout",
     "output_type": "stream",
     "text": [
      "1234567890 is valid\n",
      "987654321 is not valid\n",
      "12345abcd is not valid\n",
      "12345678901 is not valid\n",
      "12345678901 is not valid\n",
      "678901 is not valid\n",
      "345678901 is not valid\n",
      "+12345678901 is not valid\n"
     ]
    }
   ],
   "source": [
    "# Test cases\n",
    "phone_numbers = [\n",
    "    \"1234567890\",  # Valid\n",
    "    \"987654321\",   # Too short\n",
    "    \"12345abcd\",   # Contains non-digit characters\n",
    "    \"12345678901\", # Too long\n",
    "    \"12345678901\", # Too long\n",
    "    \"678901\", # Too short\n",
    "    \"345678901\", # Too long\n",
    "    \"+12345678901\", # Too long\n",
    "]\n",
    "\n",
    "for phno in phone_numbers:\n",
    "    is_valid_phone_num(phno)\n"
   ]
  },
  {
   "cell_type": "code",
   "execution_count": null,
   "id": "5c7a0e6f-14ce-43af-8186-d2150b8b342b",
   "metadata": {},
   "outputs": [],
   "source": []
  }
 ],
 "metadata": {
  "kernelspec": {
   "display_name": "Python 3 (ipykernel)",
   "language": "python",
   "name": "python3"
  },
  "language_info": {
   "codemirror_mode": {
    "name": "ipython",
    "version": 3
   },
   "file_extension": ".py",
   "mimetype": "text/x-python",
   "name": "python",
   "nbconvert_exporter": "python",
   "pygments_lexer": "ipython3",
   "version": "3.13.0"
  }
 },
 "nbformat": 4,
 "nbformat_minor": 5
}
