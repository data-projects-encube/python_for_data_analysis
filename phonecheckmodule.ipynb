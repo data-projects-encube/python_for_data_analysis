{
 "cells": [
  {
   "cell_type": "code",
   "execution_count": null,
   "id": "29fc8fa1-0f8a-4561-a221-ca2a82c38034",
   "metadata": {},
   "outputs": [],
   "source": [
    "def is_valid_phone_num(phone_number):\n",
    "    if phone_number.isdigit() and len(phone_number)==10:\n",
    "        print(f\"{phone_number} is valid\")\n",
    "        return phone_number\n",
    "    else:\n",
    "        print(f\"{phone_number} is not valid\")"
   ]
  }
 ],
 "metadata": {
  "kernelspec": {
   "display_name": "Python 3 (ipykernel)",
   "language": "python",
   "name": "python3"
  },
  "language_info": {
   "codemirror_mode": {
    "name": "ipython",
    "version": 3
   },
   "file_extension": ".py",
   "mimetype": "text/x-python",
   "name": "python",
   "nbconvert_exporter": "python",
   "pygments_lexer": "ipython3",
   "version": "3.13.0"
  }
 },
 "nbformat": 4,
 "nbformat_minor": 5
}
