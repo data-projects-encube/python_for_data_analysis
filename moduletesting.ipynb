{
 "cells": [
  {
   "cell_type": "code",
   "execution_count": 1,
   "id": "e550ac44-0f27-4733-82ba-afaabbc4141b",
   "metadata": {},
   "outputs": [
    {
     "name": "stdout",
     "output_type": "stream",
     "text": [
      "9741258248 is valid\n",
      "9980700663 is valid\n",
      "9164878037 is valid\n",
      "78899 is not valid\n",
      "97655333 is not valid\n"
     ]
    }
   ],
   "source": [
    "from piicheckmodule import *\n",
    "\n",
    "phone_numbers_list=['9741258248','9980700663','9164878037','78899','97655333']\n",
    "\n",
    "for phno in phone_numbers_list:\n",
    "    is_valid_phone_num(phno)"
   ]
  },
  {
   "cell_type": "code",
   "execution_count": 3,
   "id": "6d47a3c0-a94b-4112-a025-82eef811f9eb",
   "metadata": {},
   "outputs": [
    {
     "name": "stdout",
     "output_type": "stream",
     "text": [
      "test@example.com: True\n",
      "user.name@domain.co: True\n",
      "user@sub.domain.com: True\n",
      "user@domain: False\n",
      "user@.com: False\n",
      "@domain.com: False\n",
      "user@domain..com: True\n"
     ]
    }
   ],
   "source": [
    "emails = [\n",
    "    \"test@example.com\",      # Valid\n",
    "    \"user.name@domain.co\",   # Valid\n",
    "    \"user@sub.domain.com\",   # Valid\n",
    "    \"user@domain\",           # Invalid (no TLD)\n",
    "    \"user@.com\",             # Invalid (dot before domain)\n",
    "    \"@domain.com\",           # Invalid (missing local part)\n",
    "    \"user@domain..com\",      # Invalid (consecutive dots)\n",
    "]\n",
    "\n",
    "for email in emails:\n",
    "    print(f\"{email}: {is_valid_email(email)}\")"
   ]
  },
  {
   "cell_type": "code",
   "execution_count": null,
   "id": "160cc3d6-13b4-40af-98a7-1ec77a611e6b",
   "metadata": {},
   "outputs": [],
   "source": []
  },
  {
   "cell_type": "code",
   "execution_count": null,
   "id": "5135bafd-197a-43ae-9f54-7c6f98904f92",
   "metadata": {},
   "outputs": [],
   "source": []
  }
 ],
 "metadata": {
  "kernelspec": {
   "display_name": "Python 3 (ipykernel)",
   "language": "python",
   "name": "python3"
  },
  "language_info": {
   "codemirror_mode": {
    "name": "ipython",
    "version": 3
   },
   "file_extension": ".py",
   "mimetype": "text/x-python",
   "name": "python",
   "nbconvert_exporter": "python",
   "pygments_lexer": "ipython3",
   "version": "3.13.0"
  }
 },
 "nbformat": 4,
 "nbformat_minor": 5
}
